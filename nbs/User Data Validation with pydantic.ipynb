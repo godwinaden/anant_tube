{
 "cells": [
  {
   "cell_type": "code",
   "execution_count": 1,
   "id": "595bc924",
   "metadata": {},
   "outputs": [
    {
     "name": "stdout",
     "output_type": "stream",
     "text": [
      "/Users/mac/Documents/Dev/projects/python/FastAPI/anant_tube\n"
     ]
    }
   ],
   "source": [
    "%cd /Users/mac/Documents/Dev/projects/python/FastAPI/anant_tube"
   ]
  },
  {
   "cell_type": "code",
   "execution_count": 2,
   "id": "921f0230",
   "metadata": {},
   "outputs": [],
   "source": [
    "from app import db\n",
    "from app.users.models import User\n",
    "from cassandra.cqlengine.management import sync_table"
   ]
  },
  {
   "cell_type": "code",
   "execution_count": 3,
   "id": "06db883b",
   "metadata": {},
   "outputs": [],
   "source": [
    "db.get_session()\n",
    "sync_table(User)"
   ]
  },
  {
   "cell_type": "code",
   "execution_count": 4,
   "id": "8815b2bb",
   "metadata": {},
   "outputs": [],
   "source": [
    "post_data = {\n",
    "    \"email\": \"jordan@gmail.com\",\n",
    "    \"password\": \"sunday123\"\n",
    "}"
   ]
  },
  {
   "cell_type": "code",
   "execution_count": 5,
   "id": "f056d182",
   "metadata": {},
   "outputs": [],
   "source": [
    "from pydantic import BaseModel, EmailStr, SecretStr, validator"
   ]
  },
  {
   "cell_type": "code",
   "execution_count": 6,
   "id": "1c2f15bd",
   "metadata": {},
   "outputs": [],
   "source": [
    "class UserLoginSchema(BaseModel):\n",
    "    email: EmailStr\n",
    "    password: SecretStr"
   ]
  },
  {
   "cell_type": "code",
   "execution_count": 7,
   "id": "c3ad6c12",
   "metadata": {},
   "outputs": [
    {
     "data": {
      "text/plain": [
       "UserLoginSchema(email='jordan@gmail.com', password=SecretStr('**********'))"
      ]
     },
     "execution_count": 7,
     "metadata": {},
     "output_type": "execute_result"
    }
   ],
   "source": [
    "UserLoginSchema(**post_data) # email=\"abc@abc\", password=\"abc123\""
   ]
  },
  {
   "cell_type": "code",
   "execution_count": 8,
   "id": "fecf7dc1",
   "metadata": {},
   "outputs": [],
   "source": [
    "class UserSignupSchema(BaseModel):\n",
    "    email: EmailStr\n",
    "    password: SecretStr\n",
    "    password_confirm: SecretStr\n",
    "        \n",
    "    \n",
    "    @validator(\"email\")\n",
    "    def email_available(cls, v, values, **kwargs):\n",
    "        q = User.objects.filter(email=v)\n",
    "        if q.count() != 0:\n",
    "            raise ValueError(\"Email is not available\")\n",
    "        return v\n",
    "        \n",
    "    @validator(\"password_confirm\")\n",
    "    def passwords_match(cls, v, values, **kwargs):\n",
    "        password = values.get('password')\n",
    "        password_confirm = v\n",
    "        if password != password_confirm:\n",
    "            raise ValueError(\"Passwords do not match\")\n",
    "        return v"
   ]
  },
  {
   "cell_type": "code",
   "execution_count": 9,
   "id": "cbd02455",
   "metadata": {},
   "outputs": [],
   "source": [
    "data = UserSignupSchema(email='bdd@teamcfe.com', password='sss123', password_confirm='sss123')"
   ]
  },
  {
   "cell_type": "code",
   "execution_count": 10,
   "id": "8ddd1d3a",
   "metadata": {},
   "outputs": [
    {
     "data": {
      "text/plain": [
       "'sss123'"
      ]
     },
     "execution_count": 10,
     "metadata": {},
     "output_type": "execute_result"
    }
   ],
   "source": [
    "data.dict()['password'].get_secret_value()"
   ]
  },
  {
   "cell_type": "code",
   "execution_count": 11,
   "id": "0dc59804",
   "metadata": {},
   "outputs": [
    {
     "data": {
      "text/plain": [
       "UserLoginSchema(email='jordan@gmail.com', password=SecretStr('**********'))"
      ]
     },
     "execution_count": 11,
     "metadata": {},
     "output_type": "execute_result"
    }
   ],
   "source": [
    "data = UserLoginSchema(**post_data)\n",
    "data"
   ]
  },
  {
   "cell_type": "code",
   "execution_count": 12,
   "id": "353628af",
   "metadata": {},
   "outputs": [
    {
     "data": {
      "text/plain": [
       "<cassandra.cqlengine.query.ModelQuerySet at 0x110e8b550>"
      ]
     },
     "execution_count": 12,
     "metadata": {},
     "output_type": "execute_result"
    }
   ],
   "source": [
    "data = User.objects().all()\n",
    "data"
   ]
  },
  {
   "cell_type": "code",
   "execution_count": 13,
   "id": "a23ecb05",
   "metadata": {},
   "outputs": [
    {
     "name": "stdout",
     "output_type": "stream",
     "text": [
      "User(email=abc@teamcfe.com, user_id=c01cf640-e7b0-11ed-9e8b-f2189885f11c)\n"
     ]
    }
   ],
   "source": [
    "for d in data:\n",
    "    print(d)"
   ]
  },
  {
   "cell_type": "code",
   "execution_count": null,
   "id": "fc6e6137",
   "metadata": {},
   "outputs": [],
   "source": []
  }
 ],
 "metadata": {
  "kernelspec": {
   "display_name": "Python 3 (ipykernel)",
   "language": "python",
   "name": "python3"
  },
  "language_info": {
   "codemirror_mode": {
    "name": "ipython",
    "version": 3
   },
   "file_extension": ".py",
   "mimetype": "text/x-python",
   "name": "python",
   "nbconvert_exporter": "python",
   "pygments_lexer": "ipython3",
   "version": "3.11.2"
  }
 },
 "nbformat": 4,
 "nbformat_minor": 5
}

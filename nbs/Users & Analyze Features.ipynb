{
 "cells": [
  {
   "cell_type": "code",
   "execution_count": 1,
   "id": "595bc924",
   "metadata": {},
   "outputs": [
    {
     "name": "stdout",
     "output_type": "stream",
     "text": [
      "/Users/mac/Documents/Dev/projects/python/FastAPI/anant_tube\n"
     ]
    }
   ],
   "source": [
    "%cd /Users/mac/Documents/Dev/projects/python/FastAPI/anant_tube"
   ]
  },
  {
   "cell_type": "code",
   "execution_count": 2,
   "id": "921f0230",
   "metadata": {},
   "outputs": [],
   "source": [
    "from app import db\n",
    "from app.users.models import User\n",
    "from cassandra.cqlengine.management import sync_table"
   ]
  },
  {
   "cell_type": "code",
   "execution_count": 3,
   "id": "06db883b",
   "metadata": {},
   "outputs": [],
   "source": [
    "db.get_session()\n",
    "sync_table(User)"
   ]
  },
  {
   "cell_type": "code",
   "execution_count": 4,
   "id": "1b23b392",
   "metadata": {},
   "outputs": [],
   "source": [
    "# User.create_user(\"hello@teamcfe.com\", password='abc123')"
   ]
  },
  {
   "cell_type": "code",
   "execution_count": 5,
   "id": "6d853ff3",
   "metadata": {},
   "outputs": [],
   "source": [
    "user_a = User.create_user(\"jordan@gmail.com\", password='sunday123')"
   ]
  },
  {
   "cell_type": "code",
   "execution_count": 6,
   "id": "708b8af8",
   "metadata": {},
   "outputs": [
    {
     "data": {
      "text/plain": [
       "'$argon2id$v=19$m=65536,t=3,p=4$/VSjh/0M7ofWMaxWqX5nCA$qH1HTJmwIX64e9FPiKhwfyFCguUTDXvkTUkbW3cOGNQ'"
      ]
     },
     "execution_count": 6,
     "metadata": {},
     "output_type": "execute_result"
    }
   ],
   "source": [
    "user_a.password"
   ]
  },
  {
   "cell_type": "code",
   "execution_count": 8,
   "id": "03cc7447",
   "metadata": {},
   "outputs": [
    {
     "data": {
      "text/plain": [
       "True"
      ]
     },
     "execution_count": 8,
     "metadata": {},
     "output_type": "execute_result"
    }
   ],
   "source": [
    "user_a.verify_password('sunday123')"
   ]
  },
  {
   "cell_type": "code",
   "execution_count": null,
   "id": "a328f007",
   "metadata": {},
   "outputs": [],
   "source": []
  },
  {
   "cell_type": "code",
   "execution_count": null,
   "id": "733463d7",
   "metadata": {},
   "outputs": [],
   "source": []
  }
 ],
 "metadata": {
  "kernelspec": {
   "display_name": "Python 3 (ipykernel)",
   "language": "python",
   "name": "python3"
  },
  "language_info": {
   "codemirror_mode": {
    "name": "ipython",
    "version": 3
   },
   "file_extension": ".py",
   "mimetype": "text/x-python",
   "name": "python",
   "nbconvert_exporter": "python",
   "pygments_lexer": "ipython3",
   "version": "3.11.2"
  }
 },
 "nbformat": 4,
 "nbformat_minor": 5
}
